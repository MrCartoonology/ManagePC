{
 "cells": [
  {
   "cell_type": "code",
   "execution_count": 58,
   "metadata": {
    "collapsed": true
   },
   "outputs": [],
   "source": [
    "import os\n",
    "import hashlib\n",
    "from collections import defaultdict\n",
    "import json"
   ]
  },
  {
   "cell_type": "code",
   "execution_count": 59,
   "metadata": {
    "collapsed": true
   },
   "outputs": [],
   "source": [
    "def get_hash2files(rootdir, n=None):\n",
    "    hash2files = defaultdict(list)\n",
    "    total_files = 0\n",
    "    for dirpath, dirnames, filenames in os.walk(rootdir):\n",
    "        for fname in filenames:\n",
    "            fullpath = os.path.join(dirpath, fname)\n",
    "            fh=file(fullpath,'r')\n",
    "            md5=hashlib.md5()\n",
    "            md5.update(fh.read(100<<20))\n",
    "            hash2files[md5.hexdigest()].append(fullpath)\n",
    "            total_files += 1\n",
    "            if total_files % 4000 == 0:\n",
    "                print \"files done: %d\" % total_files\n",
    "            if len(hash2files)>=n:\n",
    "                return hash2files, total_files\n",
    "    return hash2files, total_files"
   ]
  },
  {
   "cell_type": "code",
   "execution_count": 60,
   "metadata": {
    "collapsed": false
   },
   "outputs": [],
   "source": [
    "hash2files, total_files = get_hash2files('.', n=100)\n",
    "savefile = file('hash2files.json','w')\n",
    "json.dump(hash2files, savefile)\n"
   ]
  },
  {
   "cell_type": "code",
   "execution_count": 61,
   "metadata": {
    "collapsed": false
   },
   "outputs": [],
   "source": [
    "hash2files = json.load(file('hash2files.json','r'))"
   ]
  },
  {
   "cell_type": "code",
   "execution_count": 64,
   "metadata": {
    "collapsed": false
   },
   "outputs": [],
   "source": [
    "def dedup(hash2files):\n",
    "    total_files = 0\n",
    "    for flist in hash2files.values():\n",
    "        total_files += len(flist)\n",
    "    if total_files < len(hash2files):\n",
    "        print \"need to dedup: %d/%d\" % (len(hash2files),total_files)\n",
    "    else:\n",
    "        print \"no dedup - there are %d distinct files\" % total_files"
   ]
  },
  {
   "cell_type": "code",
   "execution_count": 65,
   "metadata": {
    "collapsed": false
   },
   "outputs": [
    {
     "name": "stdout",
     "output_type": "stream",
     "text": [
      "no dedup - there are 99 distinct files\n"
     ]
    }
   ],
   "source": [
    "dedup(hash2files)"
   ]
  },
  {
   "cell_type": "code",
   "execution_count": null,
   "metadata": {
    "collapsed": true
   },
   "outputs": [],
   "source": []
  }
 ],
 "metadata": {
  "kernelspec": {
   "display_name": "Python 2",
   "language": "python",
   "name": "python2"
  },
  "language_info": {
   "codemirror_mode": {
    "name": "ipython",
    "version": 2
   },
   "file_extension": ".py",
   "mimetype": "text/x-python",
   "name": "python",
   "nbconvert_exporter": "python",
   "pygments_lexer": "ipython2",
   "version": "2.7.11"
  }
 },
 "nbformat": 4,
 "nbformat_minor": 0
}
