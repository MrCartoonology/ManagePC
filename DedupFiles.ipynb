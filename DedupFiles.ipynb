{
 "cells": [
  {
   "cell_type": "code",
   "execution_count": 16,
   "metadata": {
    "collapsed": true
   },
   "outputs": [],
   "source": [
    "import os\n",
    "import hashlib\n",
    "from collections import defaultdict\n",
    "import json\n",
    "import time"
   ]
  },
  {
   "cell_type": "code",
   "execution_count": 17,
   "metadata": {
    "collapsed": true
   },
   "outputs": [],
   "source": [
    "def get_hash2files(rootdir, n=None, verbose=False):\n",
    "    hash2files = defaultdict(list)\n",
    "    total_files = 0\n",
    "    for dirpath, dirnames, filenames in os.walk(rootdir):\n",
    "        for fname in filenames:\n",
    "            fullpath = os.path.join(dirpath, fname)\n",
    "            fh=file(fullpath,'r')\n",
    "            md5=hashlib.md5()\n",
    "            md5.update(fh.read(100<<20))\n",
    "            hash2files[md5.hexdigest()].append(fullpath)\n",
    "            total_files += 1\n",
    "            if verbose:\n",
    "                print fullpath\n",
    "            if total_files % 4000 == 0:\n",
    "                print \"files done: %d\" % total_files\n",
    "            if n and len(hash2files)>=n:\n",
    "                return hash2files, total_files\n",
    "    return hash2files, total_files"
   ]
  },
  {
   "cell_type": "code",
   "execution_count": 19,
   "metadata": {
    "collapsed": false
   },
   "outputs": [
    {
     "name": "stdout",
     "output_type": "stream",
     "text": [
      "files done: 4000\n",
      "files done: 8000\n",
      "files done: 12000\n",
      "files done: 16000\n",
      "files done: 20000\n",
      "files done: 24000\n",
      "files done: 28000\n",
      "files done: 32000\n",
      "files done: 36000\n",
      "files done: 40000\n",
      "files done: 44000\n",
      "files done: 48000\n",
      "files done: 52000\n",
      "files done: 56000\n",
      "files done: 60000\n",
      "files done: 64000\n",
      "files done: 68000\n",
      "files done: 72000\n",
      "files done: 76000\n",
      "files done: 80000\n",
      "files done: 84000\n",
      "files done: 88000\n",
      "files done: 92000\n",
      "files done: 96000\n",
      "files done: 100000\n",
      "files done: 104000\n",
      "files done: 108000\n",
      "files done: 112000\n",
      "files done: 116000\n",
      "files done: 120000\n",
      "files done: 124000\n",
      "files done: 128000\n",
      "files done: 132000\n",
      "files done: 136000\n",
      "files done: 140000\n",
      "files done: 144000\n",
      "files done: 148000\n",
      "files done: 152000\n",
      "files done: 156000\n",
      "files done: 160000\n",
      "files done: 164000\n",
      "files done: 168000\n",
      "files done: 172000\n",
      "files done: 176000\n",
      "files done: 180000\n",
      "files done: 184000\n",
      "files done: 188000\n",
      "files done: 192000\n",
      "files done: 196000\n",
      "files done: 200000\n",
      "files done: 204000\n",
      "files done: 208000\n",
      "files done: 212000\n",
      "files done: 216000\n",
      "files done: 220000\n",
      "files done: 224000\n",
      "files done: 228000\n",
      "files done: 232000\n",
      "files done: 236000\n",
      "files done: 240000\n",
      "files done: 244000\n",
      "files done: 248000\n",
      "files done: 252000\n",
      "files done: 256000\n",
      "files done: 260000\n",
      "When through 260210 files in 3651.78 sec = 60.86 min = 1.01 hr\n"
     ]
    }
   ],
   "source": [
    "t0 = time.time()\n",
    "hash2files, total_files = get_hash2files('/Volumes/G-DRIVE USB/SeagateDrive')\n",
    "savefile = file('hash2files.json','w')\n",
    "json.dump(hash2files, savefile)\n",
    "savefile.close()\n",
    "sec = time.time()-t0\n",
    "min= sec/60.0\n",
    "hr = min/60.0\n",
    "print \"When through %d files in %.2f sec = %.2f min = %.2f hr\" % (total_files, sec, min, hr)"
   ]
  },
  {
   "cell_type": "code",
   "execution_count": 20,
   "metadata": {
    "collapsed": false
   },
   "outputs": [],
   "source": [
    "hash2files = json.load(file('hash2files.json','r'))"
   ]
  },
  {
   "cell_type": "code",
   "execution_count": 55,
   "metadata": {
    "collapsed": false
   },
   "outputs": [],
   "source": [
    "def dedup(hash2files):\n",
    "    dups = {}\n",
    "    longest = None\n",
    "    for md5sum, flist in hash2files.iteritems():\n",
    "        if len(flist)>0:\n",
    "            dups[md5sum] = [fname for fname in flist]\n",
    "            if longest:\n",
    "                if len(flist)> len(longest):\n",
    "                    longest = [fname for fname in flist]\n",
    "            else:\n",
    "                longest = [fname for fname in flist]\n",
    "    return dups, longest"
   ]
  },
  {
   "cell_type": "code",
   "execution_count": 58,
   "metadata": {
    "collapsed": false
   },
   "outputs": [
    {
     "data": {
      "text/plain": [
       "[u'/Volumes/G-DRIVE USB/SeagateDrive/Documents/Documents/Web/joomla/administrator/cache/index.html',\n",
       " u'/Volumes/G-DRIVE USB/SeagateDrive/Documents/Documents/Web/joomla/administrator/components/index.html',\n",
       " u'/Volumes/G-DRIVE USB/SeagateDrive/Documents/Documents/Web/joomla/administrator/components/com_admin/index.html']"
      ]
     },
     "execution_count": 58,
     "metadata": {},
     "output_type": "execute_result"
    }
   ],
   "source": [
    "longest[0:3]\n"
   ]
  },
  {
   "cell_type": "code",
   "execution_count": 59,
   "metadata": {
    "collapsed": false
   },
   "outputs": [
    {
     "data": {
      "text/plain": [
       "'<!DOCTYPE html><title></title>\\n'"
      ]
     },
     "execution_count": 59,
     "metadata": {},
     "output_type": "execute_result"
    }
   ],
   "source": [
    "file(longest[0],'r').read()"
   ]
  },
  {
   "cell_type": "code",
   "execution_count": 57,
   "metadata": {
    "collapsed": false
   },
   "outputs": [],
   "source": [
    "dups, longest = dedup(hash2files)"
   ]
  },
  {
   "cell_type": "code",
   "execution_count": 25,
   "metadata": {
    "collapsed": true
   },
   "outputs": [],
   "source": [
    "def dedup_filename(hash2files):\n",
    "    base_fname_to_paths = defaultdict(list)\n",
    "    for flist in hash2files.values():\n",
    "        for fname in flist:\n",
    "            parentdir, basefname = os.path.split(fname)\n",
    "            base_fname_to_paths[basefname].append(parentdir)\n",
    "    to_delete = []\n",
    "    for ky,lst in base_fname_to_paths.iteritems():\n",
    "        if len(lst)==1:\n",
    "            to_delete.append(ky)\n",
    "    for ky in to_delete:\n",
    "        del base_fname_to_paths[ky]\n",
    "    return base_fname_to_paths"
   ]
  },
  {
   "cell_type": "code",
   "execution_count": 26,
   "metadata": {
    "collapsed": true
   },
   "outputs": [],
   "source": [
    "bp = dedup_filename(hash2files)"
   ]
  },
  {
   "cell_type": "code",
   "execution_count": 27,
   "metadata": {
    "collapsed": false
   },
   "outputs": [
    {
     "data": {
      "text/plain": [
       "58314"
      ]
     },
     "execution_count": 27,
     "metadata": {},
     "output_type": "execute_result"
    }
   ],
   "source": [
    "len(bp)\n"
   ]
  },
  {
   "cell_type": "code",
   "execution_count": 38,
   "metadata": {
    "collapsed": false
   },
   "outputs": [
    {
     "name": "stdout",
     "output_type": "stream",
     "text": [
      "/Volumes/G-DRIVE USB/SeagateDrive/Pictures/Pictures/Wedding/5 Bride and Groom Portraits/IMG_9622.JPG\n",
      "/Volumes/G-DRIVE USB/SeagateDrive/Pictures/Wedding/5 Bride and Groom Portraits/IMG_9622.JPG\n"
     ]
    }
   ],
   "source": [
    "fname, dirlist = bp.items()[0]\n",
    "\n",
    "fname1 = os.path.join(dirlist[0], fname)\n",
    "fname2 = os.path.join(dirlist[1], fname)\n",
    "print fname1\n",
    "print fname2"
   ]
  },
  {
   "cell_type": "code",
   "execution_count": 40,
   "metadata": {
    "collapsed": false
   },
   "outputs": [
    {
     "data": {
      "text/plain": [
       "'cecd1aabeba43864da79c9ae78da8bf6'"
      ]
     },
     "execution_count": 40,
     "metadata": {},
     "output_type": "execute_result"
    }
   ],
   "source": [
    "\n",
    "fh = file(fname2,'r')\n",
    "md5=hashlib.md5()\n",
    "md5.update(fh.read(100<<20))\n",
    "md5.hexdigest()\n",
    " "
   ]
  },
  {
   "cell_type": "code",
   "execution_count": 41,
   "metadata": {
    "collapsed": false
   },
   "outputs": [
    {
     "data": {
      "text/plain": [
       "[u'/Volumes/G-DRIVE USB/SeagateDrive/Pictures/Pictures/Wedding/5 Bride and Groom Portraits/IMG_9622.JPG',\n",
       " u'/Volumes/G-DRIVE USB/SeagateDrive/Pictures/Wedding/5 Bride and Groom Portraits/IMG_9622.JPG']"
      ]
     },
     "execution_count": 41,
     "metadata": {},
     "output_type": "execute_result"
    }
   ],
   "source": [
    "hash2files['cecd1aabeba43864da79c9ae78da8bf6']"
   ]
  },
  {
   "cell_type": "code",
   "execution_count": null,
   "metadata": {
    "collapsed": true
   },
   "outputs": [],
   "source": []
  }
 ],
 "metadata": {
  "kernelspec": {
   "display_name": "Python 2",
   "language": "python",
   "name": "python2"
  },
  "language_info": {
   "codemirror_mode": {
    "name": "ipython",
    "version": 2
   },
   "file_extension": ".py",
   "mimetype": "text/x-python",
   "name": "python",
   "nbconvert_exporter": "python",
   "pygments_lexer": "ipython2",
   "version": "2.7.11"
  }
 },
 "nbformat": 4,
 "nbformat_minor": 0
}
